{
  "cells": [
    {
      "cell_type": "markdown",
      "metadata": {
        "id": "T1_U9lv3yKKp"
      },
      "source": [
        "### Python Basics – Theoretical Questions"
      ]
    },
    {
      "cell_type": "markdown",
      "metadata": {
        "id": "ydcmUgGqnopy"
      },
      "source": [
        "1. What is Python, and why is it popular?\n",
        "\n",
        "    -> Python is a high-level, interpreted programming language known for its simple syntax, readability, and vast libraries. It is popular because it's easy to learn, supports multiple paradigms (OOP, procedural, functional), and is widely used in data science, web development, automation, and AI."
      ]
    },
    {
      "cell_type": "markdown",
      "metadata": {
        "id": "OtzzNcpspS-e"
      },
      "source": [
        "2. What is an interpreter in Python?\n",
        "\n",
        "    -> In Python, an interpreter is a program that executes code by first compiling it into intermediate bytecode, which is then executed by the Python Virtual Machine (PVM), enabling line-by-line execution without direct conversion to machine code."
      ]
    },
    {
      "cell_type": "markdown",
      "metadata": {
        "id": "yOwFJ41gp58W"
      },
      "source": [
        "3. What are pre-defined keywords in Python?\n",
        "\n",
        "    -> Keywords are reserved words in Python that have special meanings and cannot be used as identifiers (e.g., **if**, **for**, **def**, **True**, **None**)."
      ]
    },
    {
      "cell_type": "markdown",
      "metadata": {
        "id": "0nW-wOyArBpz"
      },
      "source": [
        "4. Can keywords be used as variable names?\n",
        "\n",
        "    -> No, keywords cannot be used as variable names as they are reserved for syntax rules.\n",
        "\n"
      ]
    },
    {
      "cell_type": "markdown",
      "metadata": {
        "id": "djdnrKjorFeH"
      },
      "source": [
        "5. What is mutability in Python?\n",
        "\n",
        "    -> Mutability refers to whether the value of an object can be changed after it is created. Mutable objects can be changed, immutable ones cannot."
      ]
    },
    {
      "cell_type": "markdown",
      "metadata": {
        "id": "3PTx3OInrX9O"
      },
      "source": [
        "6. Why are lists mutable, but tuples are immutable?\n",
        "\n",
        "    -> Lists are designed to allow changes like appending, removing, or modifying elements. Tuples are immutable by design for safety and optimization, often used as fixed data structures."
      ]
    },
    {
      "cell_type": "markdown",
      "metadata": {
        "id": "5_4iZGkorgVT"
      },
      "source": [
        "7. What is the difference between “==” and “is” operators in Python?\n",
        "\n",
        "    -> **==** checks value equality (whether the values are the same).\n",
        "\n",
        "    -> **is** checks identity (whether both refer to the same object in memory)."
      ]
    },
    {
      "cell_type": "markdown",
      "metadata": {
        "id": "MlzUnMOKriaG"
      },
      "source": [
        "8. What are logical operators in Python?\n",
        "\n",
        "    -> Logical operators combine boolean expressions:\n",
        "   \n",
        "      * **and**: True if both are True\n",
        "\n",
        "      * **or**: True if at least one is True\n",
        "\n",
        "      * **not**: Inverts the boolean value"
      ]
    },
    {
      "cell_type": "markdown",
      "metadata": {
        "id": "j8jK8cC6rkJI"
      },
      "source": [
        "9. What is type casting in Python?\n",
        "\n",
        "    -> Type casting is converting one data type into another, e.g., **int(\"5\")** converts string to integer."
      ]
    },
    {
      "cell_type": "markdown",
      "metadata": {
        "id": "LZLZRkmzrmR4"
      },
      "source": [
        "10. What is the difference between implicit and explicit type casting?\n",
        "\n",
        "    -> Implicit: Done automatically by Python (**int + float → float**).\n",
        "\n",
        "    -> Explicit: Done manually by the programmer using functions like **int()**, **str()**, etc."
      ]
    },
    {
      "cell_type": "markdown",
      "metadata": {
        "id": "7iunspPwroZk"
      },
      "source": [
        "11. What is the purpose of conditional statements in Python?\n",
        "\n",
        "    -> Conditional statements (**if**, **elif**, **else**) allow execution of code based on specific conditions, enabling decision-making in programs."
      ]
    },
    {
      "cell_type": "markdown",
      "metadata": {
        "id": "bqm4R_y8rqQN"
      },
      "source": [
        "12. How does the elif statement work?\n",
        "\n",
        "    -> **elif** stands for “else if.” It allows checking multiple conditions in sequence if the previous ones are false."
      ]
    },
    {
      "cell_type": "markdown",
      "metadata": {
        "id": "Ug-rnRpWrs18"
      },
      "source": [
        "13. What is the difference between for and while loops?\n",
        "\n",
        "    -> **for** loop is used when the number of iterations is known.\n",
        "\n",
        "    -> **while** loop is used when the condition must be checked until it's false, and the number of iterations may not be known."
      ]
    },
    {
      "cell_type": "markdown",
      "metadata": {
        "id": "aJPkd8sOrvOG"
      },
      "source": [
        "14. Describe a scenario where a **while** loop is more suitable than a **for** loop.\n",
        "\n",
        "    -> When waiting for user input until they enter a valid value, e.g., asking for a password until it's correct."
      ]
    },
    {
      "cell_type": "markdown",
      "metadata": {
        "id": "pEiPSc4dyQPU"
      },
      "source": [
        "### Python Basics – Practical Questions"
      ]
    },
    {
      "cell_type": "code",
      "execution_count": 1,
      "metadata": {
        "colab": {
          "base_uri": "https://localhost:8080/"
        },
        "id": "tyWoo2Lx5k2S",
        "outputId": "13b24f02-2232-471b-cec9-a93735c46032"
      },
      "outputs": [
        {
          "name": "stdout",
          "output_type": "stream",
          "text": [
            "Hello, World!\n"
          ]
        }
      ],
      "source": [
        "# 1. Write a Python program to print \"Hello, World!\"\n",
        "\n",
        "print(\"Hello, World!\")\n"
      ]
    },
    {
      "cell_type": "code",
      "execution_count": 2,
      "metadata": {
        "colab": {
          "base_uri": "https://localhost:8080/"
        },
        "id": "okrXQhHm53bV",
        "outputId": "b002e7db-e6bc-4a02-d9bb-d144827b8cc8"
      },
      "outputs": [
        {
          "name": "stdout",
          "output_type": "stream",
          "text": [
            "My name is Dnyaneshwar and I am 25 years old.\n"
          ]
        }
      ],
      "source": [
        "# 2. Write a Python program that displays your name and age.\n",
        "\n",
        "name = \"Dnyaneshwar\"\n",
        "age = 25\n",
        "print(f\"My name is {name} and I am {age} years old.\")\n"
      ]
    },
    {
      "cell_type": "code",
      "execution_count": 3,
      "metadata": {
        "colab": {
          "base_uri": "https://localhost:8080/"
        },
        "id": "vXKJitBL6Zhk",
        "outputId": "0e49ef19-9ba3-4dae-94d0-f35e3f6476df"
      },
      "outputs": [
        {
          "name": "stdout",
          "output_type": "stream",
          "text": [
            "['False', 'None', 'True', 'and', 'as', 'assert', 'async', 'await', 'break', 'class', 'continue', 'def', 'del', 'elif', 'else', 'except', 'finally', 'for', 'from', 'global', 'if', 'import', 'in', 'is', 'lambda', 'nonlocal', 'not', 'or', 'pass', 'raise', 'return', 'try', 'while', 'with', 'yield']\n"
          ]
        }
      ],
      "source": [
        "# 3. Write code to print all the pre-defined keywords in Python using the keyword library.\n",
        "\n",
        "import keyword\n",
        "print(keyword.kwlist)\n"
      ]
    },
    {
      "cell_type": "code",
      "execution_count": 4,
      "metadata": {
        "colab": {
          "base_uri": "https://localhost:8080/"
        },
        "id": "HgDWBeaZ65VQ",
        "outputId": "9537a245-88d9-4e36-fd50-55a18abe1c13"
      },
      "outputs": [
        {
          "name": "stdout",
          "output_type": "stream",
          "text": [
            "Enter a word: if\n",
            "if is a keyword: True\n"
          ]
        }
      ],
      "source": [
        "# 4. Write a program that checks if a given word is a Python keyword.\n",
        "\n",
        "import keyword\n",
        "word = input(\"Enter a word: \")\n",
        "print(f\"{word} is a keyword: {keyword.iskeyword(word)}\")\n"
      ]
    },
    {
      "cell_type": "code",
      "execution_count": 5,
      "metadata": {
        "colab": {
          "base_uri": "https://localhost:8080/"
        },
        "id": "0yxuG7yP7Gn7",
        "outputId": "86ddf19b-0115-4ad2-d7e9-c3bf4dfe9882"
      },
      "outputs": [
        {
          "name": "stdout",
          "output_type": "stream",
          "text": [
            "List after change: [10, 2, 3]\n",
            "Tuple remains unchanged: (1, 2, 3)\n"
          ]
        }
      ],
      "source": [
        "# 5. Create a list and tuple in Python, and demonstrate how attempting to change an element works differently for each.\n",
        "\n",
        "my_list = [1, 2, 3]\n",
        "my_tuple = (1, 2, 3)\n",
        "\n",
        "my_list[0] = 10  # This works\n",
        "print(\"List after change:\", my_list)\n",
        "\n",
        "# my_tuple[0] = 10  # This will raise an error\n",
        "print(\"Tuple remains unchanged:\", my_tuple)\n"
      ]
    },
    {
      "cell_type": "code",
      "execution_count": 6,
      "metadata": {
        "colab": {
          "base_uri": "https://localhost:8080/"
        },
        "id": "mXRghYny7dcI",
        "outputId": "237afe84-244d-4d3d-f3c1-02c1b802b80a"
      },
      "outputs": [
        {
          "name": "stdout",
          "output_type": "stream",
          "text": [
            "Inside function: 15 [1, 2, 3, 10]\n",
            "Outside function: 5 [1, 2, 3, 10]\n"
          ]
        }
      ],
      "source": [
        "# 6. Write a function to demonstrate the behavior of mutable and immutable arguments.\n",
        "\n",
        "def modify_values(a, b):\n",
        "    a += 10           # Immutable (int)\n",
        "    b.append(10)      # Mutable (list)\n",
        "    print(\"Inside function:\", a, b)\n",
        "\n",
        "x = 5\n",
        "y = [1, 2, 3]\n",
        "modify_values(x, y)\n",
        "print(\"Outside function:\", x, y)\n"
      ]
    },
    {
      "cell_type": "code",
      "execution_count": 7,
      "metadata": {
        "colab": {
          "base_uri": "https://localhost:8080/"
        },
        "id": "Lmk_uCj98Zwc",
        "outputId": "3ba6f60d-92de-4b37-a0b7-f23c94381026"
      },
      "outputs": [
        {
          "name": "stdout",
          "output_type": "stream",
          "text": [
            "Enter first number: 10\n",
            "Enter second number: 8\n",
            "Addition: 18\n",
            "Subtraction: 2\n",
            "Multiplication: 80\n",
            "Division: 1.25\n"
          ]
        }
      ],
      "source": [
        "# 7. Write a program that performs basic arithmetic operations on two user-input numbers.\n",
        "\n",
        "a = int(input(\"Enter first number: \"))\n",
        "b = int(input(\"Enter second number: \"))\n",
        "print(\"Addition:\", a + b)\n",
        "print(\"Subtraction:\", a - b)\n",
        "print(\"Multiplication:\", a * b)\n",
        "print(\"Division:\", a / b)\n"
      ]
    },
    {
      "cell_type": "code",
      "execution_count": 8,
      "metadata": {
        "colab": {
          "base_uri": "https://localhost:8080/"
        },
        "id": "CoLLkoTD8npH",
        "outputId": "89821020-2203-49c2-cab0-e727ef3a617f"
      },
      "outputs": [
        {
          "name": "stdout",
          "output_type": "stream",
          "text": [
            "a and b: False\n",
            "a or b: True\n",
            "not a: False\n"
          ]
        }
      ],
      "source": [
        "# 8. Write a program to demonstrate the use of logical operators\n",
        "\n",
        "a = True\n",
        "b = False\n",
        "print(\"a and b:\", a and b)\n",
        "print(\"a or b:\", a or b)\n",
        "print(\"not a:\", not a)\n"
      ]
    },
    {
      "cell_type": "code",
      "execution_count": 9,
      "metadata": {
        "colab": {
          "base_uri": "https://localhost:8080/"
        },
        "id": "bkM6VMVo806I",
        "outputId": "c63cf4d9-1338-4b9a-e1d8-3c65ed4ab032"
      },
      "outputs": [
        {
          "name": "stdout",
          "output_type": "stream",
          "text": [
            "Enter a value: 10\n",
            "As Integer: 10\n",
            "As Float: 10.0\n",
            "As Boolean: True\n"
          ]
        }
      ],
      "source": [
        "# 9. Write a Python program to convert user input from string to integer, float, and boolean types.\n",
        "\n",
        "value = input(\"Enter a value: \")\n",
        "print(\"As Integer:\", int(value))\n",
        "print(\"As Float:\", float(value))\n",
        "print(\"As Boolean:\", bool(value))\n"
      ]
    },
    {
      "cell_type": "code",
      "execution_count": 10,
      "metadata": {
        "colab": {
          "base_uri": "https://localhost:8080/"
        },
        "id": "KSy1iKUE9DlW",
        "outputId": "9e4cca68-dbf6-4819-fa9f-f0978b65d752"
      },
      "outputs": [
        {
          "name": "stdout",
          "output_type": "stream",
          "text": [
            "Converted List: [1, 2, 3]\n"
          ]
        }
      ],
      "source": [
        "# 10. Write code to demonstrate type casting with list elements.\n",
        "\n",
        "str_list = ['1', '2', '3']\n",
        "int_list = list(map(int, str_list))\n",
        "print(\"Converted List:\", int_list)\n"
      ]
    },
    {
      "cell_type": "code",
      "execution_count": 11,
      "metadata": {
        "colab": {
          "base_uri": "https://localhost:8080/"
        },
        "id": "pEPWOTYa9Yj4",
        "outputId": "81e60e7b-875b-41cb-ec95-fa1fba2cfb64"
      },
      "outputs": [
        {
          "name": "stdout",
          "output_type": "stream",
          "text": [
            "Enter a number: -12\n",
            "Negative\n"
          ]
        }
      ],
      "source": [
        "# 11. Write a program that checks if a number is positive, negative, or zero.\n",
        "\n",
        "num = float(input(\"Enter a number: \"))\n",
        "if num > 0:\n",
        "    print(\"Positive\")\n",
        "elif num < 0:\n",
        "    print(\"Negative\")\n",
        "else:\n",
        "    print(\"Zero\")\n"
      ]
    },
    {
      "cell_type": "code",
      "execution_count": 12,
      "metadata": {
        "colab": {
          "base_uri": "https://localhost:8080/"
        },
        "id": "kHjszhxN9mPE",
        "outputId": "5c69ab44-0706-48d0-d438-ee7d21594da0"
      },
      "outputs": [
        {
          "name": "stdout",
          "output_type": "stream",
          "text": [
            "1\n",
            "2\n",
            "3\n",
            "4\n",
            "5\n",
            "6\n",
            "7\n",
            "8\n",
            "9\n",
            "10\n"
          ]
        }
      ],
      "source": [
        "# 12. Write a for loop to print numbers from 1 to 10.\n",
        "\n",
        "for i in range(1, 11):\n",
        "    print(i)\n"
      ]
    },
    {
      "cell_type": "code",
      "execution_count": 13,
      "metadata": {
        "colab": {
          "base_uri": "https://localhost:8080/"
        },
        "id": "mzS0kY3j9wuJ",
        "outputId": "81d82265-b9df-4316-feb9-9af8d4157082"
      },
      "outputs": [
        {
          "name": "stdout",
          "output_type": "stream",
          "text": [
            "Sum of even numbers: 650\n"
          ]
        }
      ],
      "source": [
        "# 13. Write a Python program to find the sum of all even numbers between 1 and 50.\n",
        "\n",
        "total = 0\n",
        "for i in range(2, 51, 2):\n",
        "    total += i\n",
        "print(\"Sum of even numbers:\", total)\n"
      ]
    },
    {
      "cell_type": "code",
      "execution_count": 14,
      "metadata": {
        "colab": {
          "base_uri": "https://localhost:8080/"
        },
        "id": "pxyvxqJL-AGc",
        "outputId": "c809396d-a62b-4610-f86f-2d8d78da7ec7"
      },
      "outputs": [
        {
          "name": "stdout",
          "output_type": "stream",
          "text": [
            "Enter a string: Dnyaneshwar\n",
            "Reversed string: rawhsenaynD\n"
          ]
        }
      ],
      "source": [
        "# 14. Write a program to reverse a string using a while loop.\n",
        "\n",
        "text = input(\"Enter a string: \")\n",
        "i = len(text) - 1\n",
        "reversed_str = \"\"\n",
        "while i >= 0:\n",
        "    reversed_str += text[i]\n",
        "    i -= 1\n",
        "print(\"Reversed string:\", reversed_str)\n"
      ]
    },
    {
      "cell_type": "code",
      "execution_count": 15,
      "metadata": {
        "colab": {
          "base_uri": "https://localhost:8080/"
        },
        "id": "YzewVtjK-NZ7",
        "outputId": "15a693ed-7272-4fad-9838-8a75df789d8b"
      },
      "outputs": [
        {
          "name": "stdout",
          "output_type": "stream",
          "text": [
            "Enter a number: 20\n",
            "Factorial: 2432902008176640000\n"
          ]
        }
      ],
      "source": [
        "# 15. Write a Python program to calculate the factorial of a number provided by the user using a while loop.\n",
        "\n",
        "num = int(input(\"Enter a number: \"))\n",
        "factorial = 1\n",
        "while num > 1:\n",
        "    factorial *= num\n",
        "    num -= 1\n",
        "print(\"Factorial:\", factorial)\n"
      ]
    }
  ],
  "metadata": {
    "colab": {
      "provenance": []
    },
    "kernelspec": {
      "display_name": "Python 3",
      "name": "python3"
    },
    "language_info": {
      "name": "python"
    }
  },
  "nbformat": 4,
  "nbformat_minor": 0
}
